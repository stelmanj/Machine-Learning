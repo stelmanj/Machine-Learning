{
 "cells": [
  {
   "cell_type": "markdown",
   "metadata": {
    "name": "fill1"
   },
   "source": [
    "## Part 1: The Doomsday Algorithm\n",
    "\n",
    "The Doomsday algorithm, devised by mathematician J. H. Conway, computes the day of the week any given date fell on. The algorithm is designed to be simple enough to memorize and use for mental calculation.\n",
    "\n",
    "__Example.__ With the algorithm, we can compute that July 4, 1776 (the day the United States declared independence from Great Britain) was a Thursday.\n",
    "\n",
    "The algorithm is based on the fact that for any year, several dates always fall on the same day of the week, called the <em style=\"color:#F00\">doomsday</em> for the year. These dates include 4/4, 6/6, 8/8, 10/10, and 12/12.\n",
    "\n",
    "__Example.__ The doomsday for 2016 is Monday, so in 2016 the dates above all fell on Mondays. The doomsday for 2017 is Tuesday, so in 2017 the dates above will all fall on Tuesdays.\n",
    "\n",
    "The doomsday algorithm has three major steps:\n",
    "\n",
    "1. Compute the anchor day for the target century.\n",
    "2. Compute the doomsday for the target year based on the anchor day.\n",
    "3. Determine the day of week for the target date by counting the number of days to the nearest doomsday.\n",
    "\n",
    "Each step is explained in detail below."
   ]
  },
  {
   "cell_type": "markdown",
   "metadata": {
    "name": "ex1.1"
   },
   "source": [
    "### The Anchor Day\n",
    "\n",
    "The doomsday for the first year in a century is called the <em style=\"color:#F00\">anchor day</em> for that century. The anchor day is needed to compute the doomsday for any other year in that century. The anchor day for a century $c$ can be computed with the formula:\n",
    "$$\n",
    "a = \\bigl( 5 (c \\bmod 4) + 2 \\bigr) \\bmod 7\n",
    "$$\n",
    "The result $a$ corresponds to a day of the week, starting with $0$ for Sunday and ending with $6$ for Saturday.\n",
    "\n",
    "__Note.__ The modulo operation $(x \\bmod y)$ finds the remainder after dividing $x$ by $y$. For instance, $12 \\bmod 3 = 0$ since the remainder after dividing $12$ by $3$ is $0$. Similarly, $11 \\bmod 7 = 4$, since the remainder after dividing $11$ by $7$ is $4$.\n",
    "\n",
    "__Example.__ Suppose the target year is 1954, so the century is $c = 19$. Plugging this into the formula gives\n",
    "$$a = \\bigl( 5 (19 \\bmod 4) + 2 \\bigr) \\bmod 7 = \\bigl( 5(3) + 2 \\bigr) \\bmod 7 = 3.$$\n",
    "In other words, the anchor day for 1900-1999 is Wednesday, which is also the doomsday for 1900.\n",
    "\n",
    "__Exercise 1.1.__ Write a function that accepts a year as input and computes the anchor day for that year's century. The modulo operator `%` and functions in the `math` module may be useful. Document your function with a docstring and test your function for a few different years.  Do this in a new cell below this one."
   ]
  },
  {
   "cell_type": "code",
   "execution_count": 1,
   "metadata": {
    "collapsed": true
   },
   "outputs": [],
   "source": [
    "def year_to_anchor(year):\n",
    "    c = year//100\n",
    "    a = (5*(c%4)+2)%7\n",
    "    return a\n",
    "\n"
   ]
  },
  {
   "cell_type": "markdown",
   "metadata": {
    "name": "ex1.2"
   },
   "source": [
    "### The Doomsday\n",
    "\n",
    "Once the anchor day is known, let $y$ be the last two digits of the target year. Then the doomsday for the target year can be computed with the formula:\n",
    "$$d = \\left(y + \\left\\lfloor\\frac{y}{4}\\right\\rfloor + a\\right) \\bmod 7$$\n",
    "The result $d$ corresponds to a day of the week.\n",
    "\n",
    "__Note.__ The floor operation $\\lfloor x \\rfloor$ rounds $x$ down to the nearest integer. For instance, $\\lfloor 3.1 \\rfloor = 3$ and $\\lfloor 3.8 \\rfloor = 3$.\n",
    "\n",
    "__Example.__ Again suppose the target year is 1954. Then the anchor day is $a = 3$, and $y = 54$, so the formula gives\n",
    "$$\n",
    "d = \\left(54 + \\left\\lfloor\\frac{54}{4}\\right\\rfloor + 3\\right) \\bmod 7 = (54 + 13 + 3) \\bmod 7 = 0.\n",
    "$$\n",
    "Thus the doomsday for 1954 is Sunday.\n",
    "\n",
    "__Exercise 1.2.__ Write a function that accepts a year as input and computes the doomsday for that year. Your function may need to call the function you wrote in exercise 1.1. Make sure to document and test your function."
   ]
  },
  {
   "cell_type": "code",
   "execution_count": 4,
   "metadata": {
    "collapsed": true
   },
   "outputs": [],
   "source": [
    "def year_to_doomsday(year):\n",
    "    a = year_to_anchor(year)\n",
    "    y = year%100\n",
    "    d = (y + (y//4) + a)%7\n",
    "    return d"
   ]
  },
  {
   "cell_type": "code",
   "execution_count": 5,
   "metadata": {},
   "outputs": [
    {
     "data": {
      "text/plain": [
       "3"
      ]
     },
     "execution_count": 5,
     "metadata": {},
     "output_type": "execute_result"
    }
   ],
   "source": [
    "year_to_doomsday(2001)"
   ]
  },
  {
   "cell_type": "markdown",
   "metadata": {
    "name": "ex1.3"
   },
   "source": [
    "### The Day of Week\n",
    "\n",
    "The final step in the Doomsday algorithm is to count the number of days between the target date and a nearby doomsday, modulo 7. This gives the day of the week.\n",
    "\n",
    "Every month has at least one doomsday:\n",
    "* (regular years) 1/10, 2/28\n",
    "* (leap years) 1/11, 2/29\n",
    "* 3/21, 4/4, 5/9, 6/6, 7/11, 8/8, 9/5, 10/10, 11/7, 12/12\n",
    "\n",
    "__Example.__ Suppose we want to find the day of the week for 7/21/1954. The doomsday for 1954 is Sunday, and a nearby doomsday is 7/11. There are 10 days in July between 7/11 and 7/21. Since $10 \\bmod 7 = 3$, the date 7/21/1954 falls 3 days after a Sunday, on a Wednesday.\n",
    "\n",
    "__Exercise 1.3.__ Write a function to determine the day of the week for a given day, month, and year. Be careful of leap years! Your function should return a string such as \"Thursday\" rather than a number. As usual, document and test your code."
   ]
  },
  {
   "cell_type": "code",
   "execution_count": 6,
   "metadata": {
    "collapsed": true
   },
   "outputs": [],
   "source": [
    "def date_to_weekday(month, day, year):\n",
    "    d = year_to_doomsday(year)\n",
    "    \n",
    "    #leap years\n",
    "    #assuming tanner is correct (see slack #questions)\n",
    "    if (month == 1 or month == 2) and ((year%4 == 0 and not year%100 == 0) or year%400 == 0):\n",
    "        day = day-1\n",
    "\n",
    "    #now for the month specific doomsdates\n",
    "    if month == 1:\n",
    "        x = (day-10)%7\n",
    "    if month == 2:\n",
    "        x = (day-28)%7\n",
    "    if month == 3:\n",
    "        x = (day-21)%7\n",
    "    if month == 4:\n",
    "        x = (day-4)%7\n",
    "    if month == 5:\n",
    "        x = (day-9)%7\n",
    "    if month == 6:\n",
    "        x = (day-6)%7\n",
    "    if month == 7:\n",
    "        x = (day-11)%7\n",
    "    if month == 8:\n",
    "        x = (day-8)%7\n",
    "    if month == 9:\n",
    "        x = (day-5)%7\n",
    "    if month == 10:\n",
    "        x = (day-10)%7\n",
    "    if month == 11:\n",
    "        x = (day-7)%7\n",
    "    if month == 12:\n",
    "        x = (day-12)%7\n",
    "    if month < 1 or month > 12:\n",
    "        print(\"invalid month\")\n",
    "        return None\n",
    "    \n",
    "    #for determining day code\n",
    "    daycode = (x + d)%7\n",
    "    \n",
    "    #for determining day\n",
    "    if daycode == 0:\n",
    "        wd = \"Sunday\"\n",
    "    if daycode == 1:\n",
    "        wd = \"Monday\"\n",
    "    if daycode == 2:\n",
    "        wd = \"Tuesday\"\n",
    "    if daycode == 3:\n",
    "        wd = \"Wednesday\"\n",
    "    if daycode == 4:\n",
    "        wd = \"Thursday\"\n",
    "    if daycode == 5:\n",
    "        wd = \"Friday\"\n",
    "    if daycode == 6:\n",
    "        wd = \"Saturday\"\n",
    "    \n",
    "    return wd\n"
   ]
  },
  {
   "cell_type": "markdown",
   "metadata": {
    "name": "ex1.4"
   },
   "source": [
    "__Exercise 1.4.__ How many times did Friday the 13th occur in the years 1900-1999? Does this number seem to be similar to other centuries?"
   ]
  },
  {
   "cell_type": "code",
   "execution_count": 7,
   "metadata": {
    "collapsed": true
   },
   "outputs": [],
   "source": [
    "def count_F13(a,b):\n",
    "    tally=0\n",
    "    for year in range(a,b):\n",
    "        for month in range(1,13):\n",
    "            if date_to_weekday(month, 13, year) == \"Friday\":\n",
    "                tally = tally + 1\n",
    "    return tally"
   ]
  },
  {
   "cell_type": "code",
   "execution_count": 8,
   "metadata": {},
   "outputs": [
    {
     "name": "stdout",
     "output_type": "stream",
     "text": [
      "172\n",
      "172 172 172 172 172 172 172 172\n"
     ]
    }
   ],
   "source": [
    "print(count_F13(1900,2000))\n",
    "print(count_F13(1800,1900),count_F13(1700,1800),count_F13(1600,1700),count_F13(1500,1600),\n",
    "      count_F13(1400,1500),count_F13(1300,1400),count_F13(1200,1300),count_F13(1100,1200))"
   ]
  },
  {
   "cell_type": "markdown",
   "metadata": {},
   "source": [
    "##### There are 172 Friday the 13th's in the years 1900-1999. This number seems similar to other centuries"
   ]
  },
  {
   "cell_type": "markdown",
   "metadata": {
    "name": "ex1.5"
   },
   "source": [
    "__Exercise 1.5.__ How many times did Friday the 13th occur between the year 2000 and today?"
   ]
  },
  {
   "cell_type": "code",
   "execution_count": 9,
   "metadata": {},
   "outputs": [
    {
     "name": "stdout",
     "output_type": "stream",
     "text": [
      "31\n"
     ]
    }
   ],
   "source": [
    "print(count_F13(2000,2018))"
   ]
  },
  {
   "cell_type": "markdown",
   "metadata": {},
   "source": [
    "##### There have been 31 occurances of Friday the 13th since the start of this century."
   ]
  },
  {
   "cell_type": "markdown",
   "metadata": {
    "name": "ex2.1"
   },
   "source": [
    "## Part 2: 1978 Birthdays\n",
    "\n",
    "__Exercise 2.1.__ The file `birthdays.txt` contains the number of births in the United States for each day in 1978. Inspect the file to determine the format. Note that columns are separated by the tab character, which can be entered in Python as `\\t`. Write a function that uses iterators and list comprehensions with the string methods `split()` and `strip()` to  convert each line of data to the list format\n",
    "\n",
    "```Python\n",
    "[month, day, year, count]\n",
    "```\n",
    "The elements of this list should be integers, not strings. The function `read_birthdays` provided below will help you load the file."
   ]
  },
  {
   "cell_type": "code",
   "execution_count": 10,
   "metadata": {
    "collapsed": true,
    "name": "fill2"
   },
   "outputs": [],
   "source": [
    "def read_birthdays(file_path):\n",
    "    \"\"\"Read the contents of the birthdays file into a string.\n",
    "    \n",
    "    Arguments:\n",
    "        file_path (string): The path to the birthdays file.\n",
    "        \n",
    "    Returns:\n",
    "        string: The contents of the birthdays file.\n",
    "    \"\"\"\n",
    "    with open(file_path) as file:\n",
    "        return file.read()\n",
    "    "
   ]
  },
  {
   "cell_type": "code",
   "execution_count": 11,
   "metadata": {
    "collapsed": true
   },
   "outputs": [],
   "source": [
    "import string"
   ]
  },
  {
   "cell_type": "code",
   "execution_count": 12,
   "metadata": {
    "collapsed": true
   },
   "outputs": [],
   "source": [
    "def lines_to_list():\n",
    "    bdays=read_birthdays(\"birthdays.txt\")\n",
    "    bdays.strip()\n",
    "    blist = bdays.split(\"\\n\")\n",
    "    #seventh line is the first birthday, line 370 is last birthday\n",
    "    blist = blist[6:371]\n",
    "    biter = iter(blist)\n",
    "\n",
    "    \n",
    "    #now do idividual lists\n",
    "    for i in range(365):\n",
    "        bday = next(biter)     #get the next bithday on the list\n",
    "        date, count = bday.split(\"\\t\")     #split at the tab to make date and count\n",
    "        mon,day,yr = date.split(\"/\")     #split at the / to separate date into month, day, year\n",
    "        \n",
    "        mon,day,yr,count = int(mon),int(day),int(yr),int(count)     #cast all strings as ints\n",
    "        blist[i] = [mon,day,yr,count]     #put the newly formated birthday back into the list\n",
    "        \n",
    "    return(blist)"
   ]
  },
  {
   "cell_type": "markdown",
   "metadata": {
    "name": "ex2.2"
   },
   "source": [
    "__Exercise 2.2.__ Which month had the most births in 1978? Which day of the week had the most births? Which day of the week had the fewest? What conclusions can you draw? You may find the `Counter` class in the `collections` module useful."
   ]
  },
  {
   "cell_type": "code",
   "execution_count": 13,
   "metadata": {
    "collapsed": true
   },
   "outputs": [],
   "source": [
    "from collections import Counter"
   ]
  },
  {
   "cell_type": "code",
   "execution_count": 14,
   "metadata": {},
   "outputs": [
    {
     "data": {
      "text/plain": [
       "Counter({1: 270695,\n",
       "         2: 249875,\n",
       "         3: 276584,\n",
       "         4: 254577,\n",
       "         5: 270812,\n",
       "         6: 270756,\n",
       "         7: 294701,\n",
       "         8: 302795,\n",
       "         9: 293891,\n",
       "         10: 288955,\n",
       "         11: 274671,\n",
       "         12: 284927})"
      ]
     },
     "execution_count": 14,
     "metadata": {},
     "output_type": "execute_result"
    }
   ],
   "source": [
    "x = lines_to_list() \n",
    "month_counts = sum((Counter({r[0]:r[3]}) for r in x),Counter())\n",
    "month_counts"
   ]
  },
  {
   "cell_type": "code",
   "execution_count": 15,
   "metadata": {
    "scrolled": true
   },
   "outputs": [
    {
     "data": {
      "text/plain": [
       "Counter({'Friday': 432085,\n",
       "         'Monday': 504858,\n",
       "         'Saturday': 421400,\n",
       "         'Sunday': 487309,\n",
       "         'Thursday': 500541,\n",
       "         'Tuesday': 493897,\n",
       "         'Wednesday': 493149})"
      ]
     },
     "execution_count": 15,
     "metadata": {},
     "output_type": "execute_result"
    }
   ],
   "source": [
    "x = lines_to_list()\n",
    "weekdays=[]\n",
    "i=0\n",
    "for line in x:\n",
    "    weekday = date_to_weekday(line[0],line[1],line[2])\n",
    "    number = line[3]\n",
    "    weekdays.append([weekday,number])\n",
    "    i+=1\n",
    "\n",
    "sum((Counter({r[0]:r[1]}) for r in weekdays),Counter())"
   ]
  },
  {
   "cell_type": "markdown",
   "metadata": {},
   "source": [
    "##### August has the most births of any month. Monday has the most births of any day of the week. \n",
    "##### Saturday has the fewest births of any day of the week."
   ]
  },
  {
   "cell_type": "markdown",
   "metadata": {},
   "source": [
    "__Exercise 2.3.__ What would be an effective way to present the information in exercise 2.2? You don't need to write any code for this exercise, just discuss what you would do."
   ]
  },
  {
   "cell_type": "markdown",
   "metadata": {},
   "source": [
    "##### A contigency table would be my first instict. Graphically, I think maybe a histogram or a pie chart. "
   ]
  }
 ],
 "metadata": {
  "anaconda-cloud": {},
  "kernelspec": {
   "display_name": "Python 3",
   "language": "python",
   "name": "python3"
  },
  "language_info": {
   "codemirror_mode": {
    "name": "ipython",
    "version": 3
   },
   "file_extension": ".py",
   "mimetype": "text/x-python",
   "name": "python",
   "nbconvert_exporter": "python",
   "pygments_lexer": "ipython3",
   "version": "3.6.3"
  }
 },
 "nbformat": 4,
 "nbformat_minor": 2
}
